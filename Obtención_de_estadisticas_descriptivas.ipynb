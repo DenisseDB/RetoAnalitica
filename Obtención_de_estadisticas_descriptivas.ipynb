{
  "nbformat": 4,
  "nbformat_minor": 0,
  "metadata": {
    "colab": {
      "name": "Obtención de estadisticas descriptivas",
      "provenance": [],
      "collapsed_sections": []
    },
    "kernelspec": {
      "display_name": "Python 3",
      "name": "python3"
    }
  },
  "cells": [
    {
      "cell_type": "code",
      "metadata": {
        "id": "WUl36U4sGdQP"
      },
      "source": [
        "import pandas as pd"
      ],
      "execution_count": null,
      "outputs": []
    },
    {
      "cell_type": "code",
      "metadata": {
        "id": "AHnz1TcCGfev"
      },
      "source": [
        "df = pd.read_excel('data.xlsx')"
      ],
      "execution_count": null,
      "outputs": []
    },
    {
      "cell_type": "code",
      "metadata": {
        "id": "KNv_ts09S1j6"
      },
      "source": [
        "df.info() # DATOS RELEVANTES -> 8 columnas, RangeIndex: 36 entries, 0 to 35 y Dtype de los datos: 4 int, 2 object, 1 float, 1 datatime"
      ],
      "execution_count": null,
      "outputs": []
    },
    {
      "cell_type": "code",
      "metadata": {
        "id": "E1iikst9TUBv"
      },
      "source": [
        "# VARIABLES ESCOGIDAS\n",
        "# Escogimos estas variables para con Season y Episode tener un background y referencia de lo que se hablara\n",
        "# Watch time e IMDB nos proveen información útil de acuerdo a lo que se analizara\n",
        "df = pd.read_excel('data.xlsx', usecols = ['Season ', 'Episode ', 'Watch Time (minutes)', 'IMDB']) \n",
        "print(df)"
      ],
      "execution_count": null,
      "outputs": []
    },
    {
      "cell_type": "code",
      "metadata": {
        "colab": {
          "base_uri": "https://localhost:8080/"
        },
        "id": "rhphyZ_yV10C",
        "outputId": "85ec1c13-ad45-457f-cff1-c04004663689"
      },
      "source": [
        "# MAXIMO DE SEASON\n",
        "maximo = df['Season '].max()\n",
        "print(maximo)\n",
        "# Resultado indica cuantas temporadas hay "
      ],
      "execution_count": null,
      "outputs": [
        {
          "output_type": "stream",
          "name": "stdout",
          "text": [
            "5\n"
          ]
        }
      ]
    },
    {
      "cell_type": "code",
      "metadata": {
        "colab": {
          "base_uri": "https://localhost:8080/"
        },
        "id": "TW2kXdnCV2FL",
        "outputId": "0d7aefa1-1fdb-4b58-a727-58c93dd0da25"
      },
      "source": [
        "# MINIMO DE SEASON\n",
        "minimo = df['Season '].min()\n",
        "print(minimo)"
      ],
      "execution_count": null,
      "outputs": [
        {
          "output_type": "stream",
          "name": "stdout",
          "text": [
            "1\n"
          ]
        }
      ]
    },
    {
      "cell_type": "code",
      "metadata": {
        "colab": {
          "base_uri": "https://localhost:8080/"
        },
        "id": "hOqoAgwzV2T3",
        "outputId": "f7bb6fb4-4384-440d-b3fd-0f704b00b94b"
      },
      "source": [
        "# MAXIMO DE EPISODE\n",
        "maximo = df['Episode '].max()\n",
        "print(maximo)\n",
        "# Resultado indica el maximo de episodios por temporada"
      ],
      "execution_count": null,
      "outputs": [
        {
          "output_type": "stream",
          "name": "stdout",
          "text": [
            "9\n"
          ]
        }
      ]
    },
    {
      "cell_type": "code",
      "metadata": {
        "colab": {
          "base_uri": "https://localhost:8080/"
        },
        "id": "kk1WbxFNV2gO",
        "outputId": "8f70bbda-4b27-4315-e5f3-2e32d62943ab"
      },
      "source": [
        "# MINIMO DE EPISODE\n",
        "minimo = df['Episode '].min()\n",
        "print(minimo)"
      ],
      "execution_count": null,
      "outputs": [
        {
          "output_type": "stream",
          "name": "stdout",
          "text": [
            "1\n"
          ]
        }
      ]
    },
    {
      "cell_type": "code",
      "metadata": {
        "colab": {
          "base_uri": "https://localhost:8080/"
        },
        "id": "PxmuHP_2VLZe",
        "outputId": "1a3b791c-f435-4d8e-b7ca-0b3394a36046"
      },
      "source": [
        "# MAXIMO DE WATCH TIME \n",
        "maximo = df['Watch Time (minutes)'].max()\n",
        "print(maximo)\n",
        "# El maximo enganche en cuestion de tiempo de visto en los episodio"
      ],
      "execution_count": null,
      "outputs": [
        {
          "output_type": "stream",
          "name": "stdout",
          "text": [
            "61\n"
          ]
        }
      ]
    },
    {
      "cell_type": "code",
      "metadata": {
        "colab": {
          "base_uri": "https://localhost:8080/"
        },
        "id": "0mjTQhM6Vn_T",
        "outputId": "1199dd06-fcec-4b39-e386-edf56eb29778"
      },
      "source": [
        "# MINIMO DE WATCH TIME\n",
        "minimo = df['Watch Time (minutes)'].min()\n",
        "print(minimo)"
      ],
      "execution_count": null,
      "outputs": [
        {
          "output_type": "stream",
          "name": "stdout",
          "text": [
            "41\n"
          ]
        }
      ]
    },
    {
      "cell_type": "code",
      "metadata": {
        "colab": {
          "base_uri": "https://localhost:8080/"
        },
        "id": "J8FVtP-lWUW6",
        "outputId": "2b23845a-28eb-4d6f-cbc6-30d1cd8909c6"
      },
      "source": [
        "# MAXIMO DE IMDB \n",
        "maximo = df['IMDB'].max()\n",
        "print(maximo)\n",
        "# Maxima calificación"
      ],
      "execution_count": null,
      "outputs": [
        {
          "output_type": "stream",
          "name": "stdout",
          "text": [
            "9.5\n"
          ]
        }
      ]
    },
    {
      "cell_type": "code",
      "metadata": {
        "colab": {
          "base_uri": "https://localhost:8080/"
        },
        "id": "V9Fc-tKzWUjM",
        "outputId": "db4660af-3cc9-447e-e933-dc8b464b21a9"
      },
      "source": [
        "# MINIMO DE IMDB\n",
        "minimo = df['IMDB'].min()\n",
        "print(minimo)"
      ],
      "execution_count": null,
      "outputs": [
        {
          "output_type": "stream",
          "name": "stdout",
          "text": [
            "7.1\n"
          ]
        }
      ]
    },
    {
      "cell_type": "code",
      "metadata": {
        "colab": {
          "base_uri": "https://localhost:8080/"
        },
        "id": "dOfg-JivILjA",
        "outputId": "a6d1b0e2-bdd4-46e7-9168-4a05ad457e88"
      },
      "source": [
        "# MEDIA\n",
        "print('Media de Season: ',df['Season '].mean()) # No nos provee informacion relevante\n",
        "print('Media de Episode: ',df['Episode '].mean()) # En promedio se tiene 4 episodios\n",
        "print('Media de Watch Time: ',df['Watch Time (minutes)'].mean()) # En promedio se tiene un enganche de 48.22 minutos\n",
        "print('Media de IMDB: ',df['IMDB'].mean()) # Dan un raiting de 8.18 puntos"
      ],
      "execution_count": null,
      "outputs": [
        {
          "output_type": "stream",
          "name": "stdout",
          "text": [
            "Media de Season:  2.8333333333333335\n",
            "Media de Episode:  4.25\n",
            "Media de Watch Time:  48.22222222222222\n",
            "Media de IMDB:  8.18888888888889\n"
          ]
        }
      ]
    },
    {
      "cell_type": "code",
      "metadata": {
        "colab": {
          "base_uri": "https://localhost:8080/"
        },
        "id": "eEQu_3zPM2HH",
        "outputId": "34b1132d-e379-4ec6-fbc5-6b5bccd2bd4d"
      },
      "source": [
        "# MEDIANA\n",
        "print('Mediana de Season: ',df['Season '].median()) # Indica la mitad de temporadas\n",
        "print('Mediana de Episode: ',df['Episode '].median()) # Se cuenta con 4 primeros episodios y 4 finales aprox\n",
        "print('Mediana de Watch Time: ',df['Watch Time (minutes)'].median()) # La mitad del engache se encuentra en 47.5\n",
        "print('Mediana de IMDB: ',df['IMDB'].median()) # Las calificaciones son menores o mayores a 8.3 "
      ],
      "execution_count": null,
      "outputs": [
        {
          "output_type": "stream",
          "name": "stdout",
          "text": [
            "Mediana de Season:  3.0\n",
            "Mediana de Episode:  4.0\n",
            "Mediana de Watch Time:  47.5\n",
            "Mediana de IMDB:  8.3\n"
          ]
        }
      ]
    },
    {
      "cell_type": "code",
      "metadata": {
        "colab": {
          "base_uri": "https://localhost:8080/"
        },
        "id": "64N8Q2BcNMLX",
        "outputId": "55e7f5eb-ab06-414c-89c5-09108089cd3c"
      },
      "source": [
        "# Desviacion estandar, que tan variantes estan los datos en relacion de cercania\n",
        "print('Desviacion Estandar de Season: ',df['Season '].std()) # No nos provee informacion relevante\n",
        "print('Desviacion Estandar de Episode: ',df['Episode '].std()) # La cantidad de epsiodios no varia a gran escala de acuerdo al promedio de los mismos\n",
        "print('Desviacion Estandar de Watch Time: ',df['Watch Time (minutes)'].std()) # La duración varia relevantemente con respecto al promedio de tiempo visto\n",
        "print('Desviacion Estandar de IMDB: ',df['IMDB'].std()) # El ranking no varian mucho del promedio"
      ],
      "execution_count": null,
      "outputs": [
        {
          "output_type": "stream",
          "name": "stdout",
          "text": [
            "Desviacion Estandar de Season:  1.4040757000349275\n",
            "Desviacion Estandar de Episode:  2.3222526010012654\n",
            "Desviacion Estandar de Watch Time:  5.361828638552928\n",
            "Desviacion Estandar de IMDB:  0.5888379732406521\n"
          ]
        }
      ]
    }
  ]
}